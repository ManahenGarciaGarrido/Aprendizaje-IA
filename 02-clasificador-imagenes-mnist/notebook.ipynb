{
 "cells": [
  {
   "cell_type": "markdown",
   "metadata": {},
   "source": [
    "# Proyecto 2: Clasificador de Imágenes MNIST\n",
    "## Reconocimiento de Dígitos Escritos a Mano"
   ]
  },
  {
   "cell_type": "markdown",
   "metadata": {},
   "source": [
    "## 1. Importación de Librerías"
   ]
  },
  {
   "cell_type": "code",
   "execution_count": null,
   "metadata": {},
   "outputs": [],
   "source": [
    "import numpy as np\n",
    "import matplotlib.pyplot as plt\n",
    "import seaborn as sns\n",
    "\n",
    "import tensorflow as tf\n",
    "from tensorflow import keras\n",
    "from tensorflow.keras import layers\n",
    "from tensorflow.keras.datasets import mnist\n",
    "from tensorflow.keras.utils import to_categorical\n",
    "from tensorflow.keras.callbacks import EarlyStopping, ModelCheckpoint\n",
    "\n",
    "from sklearn.metrics import classification_report, confusion_matrix\n",
    "\n",
    "print(f\"TensorFlow version: {tf.__version__}\")"
   ]
  },
  {
   "cell_type": "markdown",
   "metadata": {},
   "source": [
    "## 2. Carga y Exploración de Datos"
   ]
  },
  {
   "cell_type": "code",
   "execution_count": null,
   "metadata": {},
   "outputs": [],
   "source": [
    "# TODO: Cargar datos MNIST\n",
    "# (X_train, y_train), (X_test, y_test) = mnist.load_data()\n",
    "\n",
    "# TODO: Explorar forma de los datos\n",
    "# print(f\"Train shape: {X_train.shape}\")\n",
    "# print(f\"Test shape: {X_test.shape}\")\n",
    "\n",
    "# TODO: Visualizar muestras\n",
    "# plt.figure(figsize=(10, 10))\n",
    "# for i in range(25):\n",
    "#     plt.subplot(5, 5, i+1)\n",
    "#     plt.imshow(X_train[i], cmap='gray')\n",
    "#     plt.title(f'Label: {y_train[i]}')\n",
    "#     plt.axis('off')\n",
    "# plt.show()"
   ]
  },
  {
   "cell_type": "markdown",
   "metadata": {},
   "source": [
    "## 3. Preprocesamiento"
   ]
  },
  {
   "cell_type": "code",
   "execution_count": null,
   "metadata": {},
   "outputs": [],
   "source": [
    "# TODO: Normalizar datos (0-1)\n",
    "# X_train = X_train / 255.0\n",
    "# X_test = X_test / 255.0\n",
    "\n",
    "# TODO: Reshape para CNN (agregar canal de color)\n",
    "# X_train = X_train.reshape(-1, 28, 28, 1)\n",
    "# X_test = X_test.reshape(-1, 28, 28, 1)\n",
    "\n",
    "# TODO: One-hot encoding de etiquetas\n",
    "# y_train_cat = to_categorical(y_train, 10)\n",
    "# y_test_cat = to_categorical(y_test, 10)"
   ]
  },
  {
   "cell_type": "markdown",
   "metadata": {},
   "source": [
    "## 4. Construcción del Modelo"
   ]
  },
  {
   "cell_type": "code",
   "execution_count": null,
   "metadata": {},
   "outputs": [],
   "source": [
    "# TODO: Crear modelo\n",
    "def create_model():\n",
    "    \"\"\"\n",
    "    Crea una CNN simple para MNIST\n",
    "    \"\"\"\n",
    "    model = keras.Sequential([\n",
    "        # TODO: Agregar capas\n",
    "        # Sugerencia:\n",
    "        # - Conv2D + ReLU\n",
    "        # - MaxPooling2D\n",
    "        # - Conv2D + ReLU\n",
    "        # - MaxPooling2D\n",
    "        # - Flatten\n",
    "        # - Dense + ReLU\n",
    "        # - Dropout\n",
    "        # - Dense (10 units, softmax)\n",
    "    ])\n",
    "    \n",
    "    return model\n",
    "\n",
    "# TODO: Instanciar y compilar modelo\n",
    "# model = create_model()\n",
    "# model.compile(\n",
    "#     optimizer='adam',\n",
    "#     loss='categorical_crossentropy',\n",
    "#     metrics=['accuracy']\n",
    "# )\n",
    "# model.summary()"
   ]
  },
  {
   "cell_type": "markdown",
   "metadata": {},
   "source": [
    "## 5. Entrenamiento"
   ]
  },
  {
   "cell_type": "code",
   "execution_count": null,
   "metadata": {},
   "outputs": [],
   "source": [
    "# TODO: Configurar callbacks\n",
    "# early_stop = EarlyStopping(monitor='val_loss', patience=3, restore_best_weights=True)\n",
    "# checkpoint = ModelCheckpoint('../models/best_model.h5', save_best_only=True)\n",
    "\n",
    "# TODO: Entrenar\n",
    "# history = model.fit(\n",
    "#     X_train, y_train_cat,\n",
    "#     epochs=10,\n",
    "#     batch_size=128,\n",
    "#     validation_split=0.2,\n",
    "#     callbacks=[early_stop, checkpoint]\n",
    "# )"
   ]
  },
  {
   "cell_type": "markdown",
   "metadata": {},
   "source": [
    "## 6. Visualización del Entrenamiento"
   ]
  },
  {
   "cell_type": "code",
   "execution_count": null,
   "metadata": {},
   "outputs": [],
   "source": [
    "# TODO: Plotear curvas de learning\n",
    "# plt.figure(figsize=(12, 4))\n",
    "# \n",
    "# plt.subplot(1, 2, 1)\n",
    "# plt.plot(history.history['loss'], label='Train Loss')\n",
    "# plt.plot(history.history['val_loss'], label='Val Loss')\n",
    "# plt.legend()\n",
    "# plt.title('Loss')\n",
    "# \n",
    "# plt.subplot(1, 2, 2)\n",
    "# plt.plot(history.history['accuracy'], label='Train Accuracy')\n",
    "# plt.plot(history.history['val_accuracy'], label='Val Accuracy')\n",
    "# plt.legend()\n",
    "# plt.title('Accuracy')\n",
    "# \n",
    "# plt.show()"
   ]
  },
  {
   "cell_type": "markdown",
   "metadata": {},
   "source": [
    "## 7. Evaluación"
   ]
  },
  {
   "cell_type": "code",
   "execution_count": null,
   "metadata": {},
   "outputs": [],
   "source": [
    "# TODO: Evaluar en test set\n",
    "# test_loss, test_acc = model.evaluate(X_test, y_test_cat)\n",
    "# print(f\"Test Accuracy: {test_acc:.4f}\")\n",
    "\n",
    "# TODO: Hacer predicciones\n",
    "# y_pred = model.predict(X_test)\n",
    "# y_pred_classes = np.argmax(y_pred, axis=1)\n",
    "\n",
    "# TODO: Matriz de confusión\n",
    "# cm = confusion_matrix(y_test, y_pred_classes)\n",
    "# plt.figure(figsize=(10, 8))\n",
    "# sns.heatmap(cm, annot=True, fmt='d', cmap='Blues')\n",
    "# plt.title('Confusion Matrix')\n",
    "# plt.ylabel('True Label')\n",
    "# plt.xlabel('Predicted Label')\n",
    "# plt.show()"
   ]
  },
  {
   "cell_type": "markdown",
   "metadata": {},
   "source": [
    "## 8. Análisis de Errores"
   ]
  },
  {
   "cell_type": "code",
   "execution_count": null,
   "metadata": {},
   "outputs": [],
   "source": [
    "# TODO: Visualizar predicciones incorrectas\n",
    "# incorrect_indices = np.where(y_pred_classes != y_test)[0]\n",
    "# \n",
    "# plt.figure(figsize=(15, 8))\n",
    "# for i, idx in enumerate(incorrect_indices[:20]):\n",
    "#     plt.subplot(4, 5, i+1)\n",
    "#     plt.imshow(X_test[idx].reshape(28, 28), cmap='gray')\n",
    "#     plt.title(f'True: {y_test[idx]}, Pred: {y_pred_classes[idx]}')\n",
    "#     plt.axis('off')\n",
    "# plt.suptitle('Incorrectly Classified Images')\n",
    "# plt.show()"
   ]
  },
  {
   "cell_type": "markdown",
   "metadata": {},
   "source": [
    "## 9. Guardar Modelo"
   ]
  },
  {
   "cell_type": "code",
   "execution_count": null,
   "metadata": {},
   "outputs": [],
   "source": [
    "# TODO: Guardar modelo final\n",
    "# model.save('../models/mnist_classifier.h5')\n",
    "# print(\"Modelo guardado!\")"
   ]
  },
  {
   "cell_type": "markdown",
   "metadata": {},
   "source": [
    "## Conclusiones\n",
    "\n",
    "TODO: Documentar:\n",
    "- ¿Qué accuracy lograste?\n",
    "- ¿Cuáles dígitos fueron más difíciles de clasificar?\n",
    "- ¿Qué aprendiste sobre CNNs?"
   ]
  }
 ],
 "metadata": {
  "kernelspec": {
   "display_name": "Python 3",
   "language": "python",
   "name": "python3"
  },
  "language_info": {
   "name": "python",
   "version": "3.8.0"
  }
 },
 "nbformat": 4,
 "nbformat_minor": 4
}
